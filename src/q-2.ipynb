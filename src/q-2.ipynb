{
 "cells": [
  {
   "cell_type": "markdown",
   "metadata": {
    "colab_type": "text",
    "id": "6wlYCy3qnsp7"
   },
   "source": [
    "# q-2"
   ]
  },
  {
   "cell_type": "markdown",
   "metadata": {
    "colab_type": "text",
    "id": "51_P-HT3n_07"
   },
   "source": [
    "    1.Handling Categorical Data:\n",
    "\n",
    "*   Categorical data have no order between them.\n",
    "*   so simply mapping them won't work.\n",
    "*   We can one-hot encode them to use in our neural network.\n",
    "*   One-hot can increase the dimension so we might require dimensionality reduction.\n"
   ]
  },
  {
   "cell_type": "markdown",
   "metadata": {
    "colab_type": "text",
    "id": "WMl84jnjoM1V"
   },
   "source": [
    "    2. Change in neural network\n",
    "\n",
    "*   Output feature need not be one hot encoded as it is not a classification task.\n",
    "*   Also softmax cannot be used for output. Something like tanh or sigmoid can be used.\n",
    "*   We need to pass 3 layers to our network.\n"
   ]
  },
  {
   "cell_type": "code",
   "execution_count": 0,
   "metadata": {
    "colab": {},
    "colab_type": "code",
    "id": "RudcnYoyqSYM"
   },
   "outputs": [],
   "source": []
  }
 ],
 "metadata": {
  "colab": {
   "collapsed_sections": [],
   "name": "q-2.ipynb",
   "provenance": [],
   "version": "0.3.2"
  },
  "kernelspec": {
   "display_name": "Python 3",
   "name": "python3"
  }
 },
 "nbformat": 4,
 "nbformat_minor": 1
}
